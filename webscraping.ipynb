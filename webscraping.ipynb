{
 "cells": [
  {
   "cell_type": "markdown",
   "source": [
    "#### required libraries"
   ],
   "metadata": {
    "collapsed": false,
    "pycharm": {
     "name": "#%% md\n"
    }
   }
  },
  {
   "cell_type": "code",
   "execution_count": 70,
   "outputs": [],
   "source": [
    "import requests\n",
    "from bs4 import BeautifulSoup\n",
    "from json import loads as json_loads\n",
    "import csv"
   ],
   "metadata": {
    "collapsed": false,
    "pycharm": {
     "name": "#%%\n"
    }
   }
  },
  {
   "cell_type": "code",
   "execution_count": 71,
   "outputs": [],
   "source": [
    "URL = \"https://www.zoomit.ir/\"\n",
    "page = requests.get(URL)\n",
    "soup = BeautifulSoup(page.text)"
   ],
   "metadata": {
    "collapsed": false,
    "pycharm": {
     "name": "#%%\n"
    }
   }
  },
  {
   "cell_type": "markdown",
   "source": [
    "#### getting info from website"
   ],
   "metadata": {
    "collapsed": false,
    "pycharm": {
     "name": "#%% md\n"
    }
   }
  },
  {
   "cell_type": "code",
   "execution_count": 72,
   "outputs": [],
   "source": [
    "results = soup.find(id=\"__NEXT_DATA__\")\n",
    "myResults=json_loads(results.string)"
   ],
   "metadata": {
    "collapsed": false,
    "pycharm": {
     "name": "#%%\n"
    }
   }
  },
  {
   "cell_type": "markdown",
   "source": [
    "#### gathering the information which we needed."
   ],
   "metadata": {
    "collapsed": false,
    "pycharm": {
     "name": "#%% md\n"
    }
   }
  },
  {
   "cell_type": "code",
   "execution_count": 73,
   "outputs": [],
   "source": [
    "myResults2=myResults[\"props\"]['pageProps']['editorialModules']['leftSection'][0]['chips'][0][\"items\"]\n",
    "finalInfo=[[\"number\",\"title\",\"IMG preview\",\"publish date\",\"author\"]] #title, img preview, publish date, author\n",
    "i=1\n",
    "for content in myResults2:\n",
    "    finalInfo.append({\"number\":i,\"title\":content[\"title\"],\"IMG preview\":content['coverImageLink']['preview'],\"publish date\":content['publishedDate'],\"author\":content['author']['fullName']})\n",
    "    i+=1"
   ],
   "metadata": {
    "collapsed": false,
    "pycharm": {
     "name": "#%%\n"
    }
   }
  },
  {
   "cell_type": "markdown",
   "source": [
    "#### transfaring these information from short term memory to long term memory."
   ],
   "metadata": {
    "collapsed": false,
    "pycharm": {
     "name": "#%% md\n"
    }
   }
  },
  {
   "cell_type": "code",
   "execution_count": 74,
   "outputs": [],
   "source": [
    "myfile=open(r\"finalResults.csv\",\"w\",encoding='UTF8')\n",
    "writer = csv.DictWriter(myfile, fieldnames=finalInfo[0])\n",
    "writer.writeheader()\n",
    "writer.writerows(finalInfo[1:])\n",
    "myfile.close()"
   ],
   "metadata": {
    "collapsed": false,
    "pycharm": {
     "name": "#%%\n"
    }
   }
  }
 ],
 "metadata": {
  "kernelspec": {
   "display_name": "Python 3",
   "language": "python",
   "name": "python3"
  },
  "language_info": {
   "codemirror_mode": {
    "name": "ipython",
    "version": 3
   },
   "file_extension": ".py",
   "mimetype": "text/x-python",
   "name": "python",
   "nbconvert_exporter": "python",
   "pygments_lexer": "ipython3",
   "version": "3.6.4"
  }
 },
 "nbformat": 4,
 "nbformat_minor": 5
}